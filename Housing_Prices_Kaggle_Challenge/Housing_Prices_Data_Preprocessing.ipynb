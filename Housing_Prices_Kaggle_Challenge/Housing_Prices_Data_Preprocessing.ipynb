{
 "cells": [
  {
   "cell_type": "markdown",
   "id": "84e7210b-9363-4157-887d-9c390f114b14",
   "metadata": {},
   "source": [
    "## Kaggle Housing Prices Competition"
   ]
  },
  {
   "cell_type": "markdown",
   "id": "2d0d564e-1e2a-4619-855c-bcd7af5da6dc",
   "metadata": {},
   "source": [
    "### Prepare the data for machine learning algorithms\n",
    "* Deal with missing values\n",
    "* Handle outliers\n",
    "* Deal with correlated attributes\n",
    "* Handle text and categorical attributes\n",
    "* Feature scaling"
   ]
  },
  {
   "cell_type": "code",
   "execution_count": 2,
   "id": "101adbc2-4451-47e2-adf1-54ecd983402a",
   "metadata": {},
   "outputs": [],
   "source": [
    "import pandas as pd\n",
    "import numpy as np\n",
    "import matplotlib.pyplot as plt\n",
    "import seaborn as sns"
   ]
  },
  {
   "cell_type": "code",
   "execution_count": 3,
   "id": "92176821-a95c-4531-9e49-72aa4d6481d4",
   "metadata": {},
   "outputs": [
    {
     "data": {
      "text/html": [
       "<div>\n",
       "<style scoped>\n",
       "    .dataframe tbody tr th:only-of-type {\n",
       "        vertical-align: middle;\n",
       "    }\n",
       "\n",
       "    .dataframe tbody tr th {\n",
       "        vertical-align: top;\n",
       "    }\n",
       "\n",
       "    .dataframe thead th {\n",
       "        text-align: right;\n",
       "    }\n",
       "</style>\n",
       "<table border=\"1\" class=\"dataframe\">\n",
       "  <thead>\n",
       "    <tr style=\"text-align: right;\">\n",
       "      <th></th>\n",
       "      <th>Id</th>\n",
       "      <th>MSSubClass</th>\n",
       "      <th>MSZoning</th>\n",
       "      <th>LotFrontage</th>\n",
       "      <th>LotArea</th>\n",
       "      <th>Street</th>\n",
       "      <th>Alley</th>\n",
       "      <th>LotShape</th>\n",
       "      <th>LandContour</th>\n",
       "      <th>Utilities</th>\n",
       "      <th>...</th>\n",
       "      <th>PoolArea</th>\n",
       "      <th>PoolQC</th>\n",
       "      <th>Fence</th>\n",
       "      <th>MiscFeature</th>\n",
       "      <th>MiscVal</th>\n",
       "      <th>MoSold</th>\n",
       "      <th>YrSold</th>\n",
       "      <th>SaleType</th>\n",
       "      <th>SaleCondition</th>\n",
       "      <th>SalePrice</th>\n",
       "    </tr>\n",
       "  </thead>\n",
       "  <tbody>\n",
       "    <tr>\n",
       "      <th>0</th>\n",
       "      <td>1</td>\n",
       "      <td>60</td>\n",
       "      <td>RL</td>\n",
       "      <td>65.0</td>\n",
       "      <td>8450</td>\n",
       "      <td>Pave</td>\n",
       "      <td>NaN</td>\n",
       "      <td>Reg</td>\n",
       "      <td>Lvl</td>\n",
       "      <td>AllPub</td>\n",
       "      <td>...</td>\n",
       "      <td>0</td>\n",
       "      <td>NaN</td>\n",
       "      <td>NaN</td>\n",
       "      <td>NaN</td>\n",
       "      <td>0</td>\n",
       "      <td>2</td>\n",
       "      <td>2008</td>\n",
       "      <td>WD</td>\n",
       "      <td>Normal</td>\n",
       "      <td>208500</td>\n",
       "    </tr>\n",
       "    <tr>\n",
       "      <th>1</th>\n",
       "      <td>2</td>\n",
       "      <td>20</td>\n",
       "      <td>RL</td>\n",
       "      <td>80.0</td>\n",
       "      <td>9600</td>\n",
       "      <td>Pave</td>\n",
       "      <td>NaN</td>\n",
       "      <td>Reg</td>\n",
       "      <td>Lvl</td>\n",
       "      <td>AllPub</td>\n",
       "      <td>...</td>\n",
       "      <td>0</td>\n",
       "      <td>NaN</td>\n",
       "      <td>NaN</td>\n",
       "      <td>NaN</td>\n",
       "      <td>0</td>\n",
       "      <td>5</td>\n",
       "      <td>2007</td>\n",
       "      <td>WD</td>\n",
       "      <td>Normal</td>\n",
       "      <td>181500</td>\n",
       "    </tr>\n",
       "    <tr>\n",
       "      <th>2</th>\n",
       "      <td>3</td>\n",
       "      <td>60</td>\n",
       "      <td>RL</td>\n",
       "      <td>68.0</td>\n",
       "      <td>11250</td>\n",
       "      <td>Pave</td>\n",
       "      <td>NaN</td>\n",
       "      <td>IR1</td>\n",
       "      <td>Lvl</td>\n",
       "      <td>AllPub</td>\n",
       "      <td>...</td>\n",
       "      <td>0</td>\n",
       "      <td>NaN</td>\n",
       "      <td>NaN</td>\n",
       "      <td>NaN</td>\n",
       "      <td>0</td>\n",
       "      <td>9</td>\n",
       "      <td>2008</td>\n",
       "      <td>WD</td>\n",
       "      <td>Normal</td>\n",
       "      <td>223500</td>\n",
       "    </tr>\n",
       "    <tr>\n",
       "      <th>3</th>\n",
       "      <td>4</td>\n",
       "      <td>70</td>\n",
       "      <td>RL</td>\n",
       "      <td>60.0</td>\n",
       "      <td>9550</td>\n",
       "      <td>Pave</td>\n",
       "      <td>NaN</td>\n",
       "      <td>IR1</td>\n",
       "      <td>Lvl</td>\n",
       "      <td>AllPub</td>\n",
       "      <td>...</td>\n",
       "      <td>0</td>\n",
       "      <td>NaN</td>\n",
       "      <td>NaN</td>\n",
       "      <td>NaN</td>\n",
       "      <td>0</td>\n",
       "      <td>2</td>\n",
       "      <td>2006</td>\n",
       "      <td>WD</td>\n",
       "      <td>Abnorml</td>\n",
       "      <td>140000</td>\n",
       "    </tr>\n",
       "    <tr>\n",
       "      <th>4</th>\n",
       "      <td>5</td>\n",
       "      <td>60</td>\n",
       "      <td>RL</td>\n",
       "      <td>84.0</td>\n",
       "      <td>14260</td>\n",
       "      <td>Pave</td>\n",
       "      <td>NaN</td>\n",
       "      <td>IR1</td>\n",
       "      <td>Lvl</td>\n",
       "      <td>AllPub</td>\n",
       "      <td>...</td>\n",
       "      <td>0</td>\n",
       "      <td>NaN</td>\n",
       "      <td>NaN</td>\n",
       "      <td>NaN</td>\n",
       "      <td>0</td>\n",
       "      <td>12</td>\n",
       "      <td>2008</td>\n",
       "      <td>WD</td>\n",
       "      <td>Normal</td>\n",
       "      <td>250000</td>\n",
       "    </tr>\n",
       "  </tbody>\n",
       "</table>\n",
       "<p>5 rows × 81 columns</p>\n",
       "</div>"
      ],
      "text/plain": [
       "   Id  MSSubClass MSZoning  LotFrontage  LotArea Street Alley LotShape  \\\n",
       "0   1          60       RL         65.0     8450   Pave   NaN      Reg   \n",
       "1   2          20       RL         80.0     9600   Pave   NaN      Reg   \n",
       "2   3          60       RL         68.0    11250   Pave   NaN      IR1   \n",
       "3   4          70       RL         60.0     9550   Pave   NaN      IR1   \n",
       "4   5          60       RL         84.0    14260   Pave   NaN      IR1   \n",
       "\n",
       "  LandContour Utilities  ... PoolArea PoolQC Fence MiscFeature MiscVal MoSold  \\\n",
       "0         Lvl    AllPub  ...        0    NaN   NaN         NaN       0      2   \n",
       "1         Lvl    AllPub  ...        0    NaN   NaN         NaN       0      5   \n",
       "2         Lvl    AllPub  ...        0    NaN   NaN         NaN       0      9   \n",
       "3         Lvl    AllPub  ...        0    NaN   NaN         NaN       0      2   \n",
       "4         Lvl    AllPub  ...        0    NaN   NaN         NaN       0     12   \n",
       "\n",
       "  YrSold  SaleType  SaleCondition  SalePrice  \n",
       "0   2008        WD         Normal     208500  \n",
       "1   2007        WD         Normal     181500  \n",
       "2   2008        WD         Normal     223500  \n",
       "3   2006        WD        Abnorml     140000  \n",
       "4   2008        WD         Normal     250000  \n",
       "\n",
       "[5 rows x 81 columns]"
      ]
     },
     "execution_count": 3,
     "metadata": {},
     "output_type": "execute_result"
    }
   ],
   "source": [
    "# Load data \n",
    "housing = pd.read_csv('housing_price_data/train.csv')\n",
    "housing.head()"
   ]
  },
  {
   "cell_type": "markdown",
   "id": "7ceed710-0c03-4997-a8a0-b6dbf52bca3c",
   "metadata": {},
   "source": [
    "#### Address Missing Values"
   ]
  },
  {
   "cell_type": "code",
   "execution_count": 5,
   "id": "c822ca8a-df05-4309-84a0-c94ef9e1e620",
   "metadata": {},
   "outputs": [
    {
     "data": {
      "text/plain": [
       "PoolQC         1453\n",
       "MiscFeature    1406\n",
       "Alley          1369\n",
       "Fence          1179\n",
       "MasVnrType      872\n",
       "               ... \n",
       "ExterQual         0\n",
       "Exterior2nd       0\n",
       "Exterior1st       0\n",
       "RoofMatl          0\n",
       "SalePrice         0\n",
       "Length: 81, dtype: int64"
      ]
     },
     "execution_count": 5,
     "metadata": {},
     "output_type": "execute_result"
    }
   ],
   "source": [
    "housing.isnull().sum().sort_values(ascending = False)"
   ]
  },
  {
   "cell_type": "code",
   "execution_count": 6,
   "id": "abe6dd31-b6d7-4164-890a-33c511c41a24",
   "metadata": {},
   "outputs": [
    {
     "data": {
      "text/plain": [
       "0"
      ]
     },
     "execution_count": 6,
     "metadata": {},
     "output_type": "execute_result"
    }
   ],
   "source": [
    "# Imputing Missing Values\n",
    "housing_processed = housing\n",
    "\n",
    "# Categorical columns:\n",
    "cat_cols_fill_none = ['PoolQC', 'MiscFeature', 'Alley', 'Fence', 'FireplaceQu',\n",
    "                     'GarageCond', 'GarageQual', 'GarageFinish', 'GarageType',\n",
    "                     'BsmtFinType2', 'BsmtExposure', 'BsmtFinType1', 'BsmtQual', 'BsmtCond',\n",
    "                     'MasVnrType']\n",
    "\n",
    "# Replace missing values for categorical columns with None\n",
    "for cat in cat_cols_fill_none:\n",
    "    housing_processed[cat] = housing_processed[cat].fillna(\"None\")\n",
    "    \n",
    "# Group by neighborhood and fill in missing value by the median LotFrontage of all the neighborhood\n",
    "housing_processed['LotFrontage'] = housing_processed.groupby(\"Neighborhood\")[\"LotFrontage\"].transform(\n",
    "    lambda x: x.fillna(x.median()))    \n",
    "\n",
    "# Garage: GarageYrBlt, GarageArea and GarageCars these are numerical columns, replace with zero\n",
    "for col in ['GarageYrBlt', 'GarageArea', 'GarageCars']:\n",
    "    housing_processed[col] = housing_processed[col].fillna(int(0))\n",
    "    \n",
    "# MasVnrArea : replace with zero\n",
    "housing_processed['MasVnrArea'] = housing_processed['MasVnrArea'].fillna(int(0))\n",
    "\n",
    "# Use the mode value \n",
    "housing_processed['Electrical'] = housing_processed['Electrical'].fillna(housing_processed['Electrical']).mode()[0]\n",
    "\n",
    "# There is no need of Utilities so let's just drop this column\n",
    "housing_processed = housing_processed.drop(['Utilities'], axis = 1)\n",
    "\n",
    "# Get the count again to verify that we do not have any more missing values\n",
    "housing_processed.isnull().apply(sum).max()"
   ]
  },
  {
   "cell_type": "markdown",
   "id": "a4653271-b618-4740-b213-63da5d03cdf2",
   "metadata": {},
   "source": [
    "#### Address Outliers"
   ]
  },
  {
   "cell_type": "code",
   "execution_count": 9,
   "id": "4ba1f3bd-70d9-41c7-919a-c469747f3590",
   "metadata": {},
   "outputs": [
    {
     "name": "stdout",
     "output_type": "stream",
     "text": [
      "<class 'pandas.core.frame.DataFrame'>\n",
      "Index: 1421 entries, 0 to 1457\n",
      "Data columns (total 80 columns):\n",
      " #   Column         Non-Null Count  Dtype  \n",
      "---  ------         --------------  -----  \n",
      " 0   Id             1421 non-null   int64  \n",
      " 1   MSSubClass     1421 non-null   int64  \n",
      " 2   MSZoning       1421 non-null   object \n",
      " 3   LotFrontage    1421 non-null   float64\n",
      " 4   LotArea        1421 non-null   int64  \n",
      " 5   Street         1421 non-null   object \n",
      " 6   Alley          1421 non-null   object \n",
      " 7   LotShape       1421 non-null   object \n",
      " 8   LandContour    1421 non-null   object \n",
      " 9   LotConfig      1421 non-null   object \n",
      " 10  LandSlope      1421 non-null   object \n",
      " 11  Neighborhood   1421 non-null   object \n",
      " 12  Condition1     1421 non-null   object \n",
      " 13  Condition2     1421 non-null   object \n",
      " 14  BldgType       1421 non-null   object \n",
      " 15  HouseStyle     1421 non-null   object \n",
      " 16  OverallQual    1421 non-null   int64  \n",
      " 17  OverallCond    1421 non-null   int64  \n",
      " 18  YearBuilt      1421 non-null   int64  \n",
      " 19  YearRemodAdd   1421 non-null   int64  \n",
      " 20  RoofStyle      1421 non-null   object \n",
      " 21  RoofMatl       1421 non-null   object \n",
      " 22  Exterior1st    1421 non-null   object \n",
      " 23  Exterior2nd    1421 non-null   object \n",
      " 24  MasVnrType     1421 non-null   object \n",
      " 25  MasVnrArea     1421 non-null   float64\n",
      " 26  ExterQual      1421 non-null   object \n",
      " 27  ExterCond      1421 non-null   object \n",
      " 28  Foundation     1421 non-null   object \n",
      " 29  BsmtQual       1421 non-null   object \n",
      " 30  BsmtCond       1421 non-null   object \n",
      " 31  BsmtExposure   1421 non-null   object \n",
      " 32  BsmtFinType1   1421 non-null   object \n",
      " 33  BsmtFinSF1     1421 non-null   int64  \n",
      " 34  BsmtFinType2   1421 non-null   object \n",
      " 35  BsmtFinSF2     1421 non-null   int64  \n",
      " 36  BsmtUnfSF      1421 non-null   int64  \n",
      " 37  TotalBsmtSF    1421 non-null   int64  \n",
      " 38  Heating        1421 non-null   object \n",
      " 39  HeatingQC      1421 non-null   object \n",
      " 40  CentralAir     1421 non-null   object \n",
      " 41  Electrical     1421 non-null   object \n",
      " 42  1stFlrSF       1421 non-null   int64  \n",
      " 43  2ndFlrSF       1421 non-null   int64  \n",
      " 44  LowQualFinSF   1421 non-null   int64  \n",
      " 45  GrLivArea      1421 non-null   int64  \n",
      " 46  BsmtFullBath   1421 non-null   int64  \n",
      " 47  BsmtHalfBath   1421 non-null   int64  \n",
      " 48  FullBath       1421 non-null   int64  \n",
      " 49  HalfBath       1421 non-null   int64  \n",
      " 50  BedroomAbvGr   1421 non-null   int64  \n",
      " 51  KitchenAbvGr   1421 non-null   int64  \n",
      " 52  KitchenQual    1421 non-null   object \n",
      " 53  TotRmsAbvGrd   1421 non-null   int64  \n",
      " 54  Functional     1421 non-null   object \n",
      " 55  Fireplaces     1421 non-null   int64  \n",
      " 56  FireplaceQu    1421 non-null   object \n",
      " 57  GarageType     1421 non-null   object \n",
      " 58  GarageYrBlt    1421 non-null   float64\n",
      " 59  GarageFinish   1421 non-null   object \n",
      " 60  GarageCars     1421 non-null   int64  \n",
      " 61  GarageArea     1421 non-null   int64  \n",
      " 62  GarageQual     1421 non-null   object \n",
      " 63  GarageCond     1421 non-null   object \n",
      " 64  PavedDrive     1421 non-null   object \n",
      " 65  WoodDeckSF     1421 non-null   int64  \n",
      " 66  OpenPorchSF    1421 non-null   int64  \n",
      " 67  EnclosedPorch  1421 non-null   int64  \n",
      " 68  3SsnPorch      1421 non-null   int64  \n",
      " 69  ScreenPorch    1421 non-null   int64  \n",
      " 70  PoolArea       1421 non-null   int64  \n",
      " 71  PoolQC         1421 non-null   object \n",
      " 72  Fence          1421 non-null   object \n",
      " 73  MiscFeature    1421 non-null   object \n",
      " 74  MiscVal        1421 non-null   int64  \n",
      " 75  MoSold         1421 non-null   int64  \n",
      " 76  YrSold         1421 non-null   int64  \n",
      " 77  SaleType       1421 non-null   object \n",
      " 78  SaleCondition  1421 non-null   object \n",
      " 79  SalePrice      1421 non-null   int64  \n",
      "dtypes: float64(3), int64(35), object(42)\n",
      "memory usage: 899.2+ KB\n"
     ]
    }
   ],
   "source": [
    "# Select only numeric attributes\n",
    "num_features = housing_processed.select_dtypes(exclude = 'object')\n",
    "\n",
    "# Calculate the 99.9th quantile for numeric attributes\n",
    "high_quant = num_features.quantile(0.999)\n",
    "\n",
    "# Remove outliers\n",
    "for i in num_features.columns:\n",
    "    # Drop rows where the value exceeds the high quantile\n",
    "    housing_processed = housing_processed.drop(housing_processed[housing_processed[i] > high_quant[i]].index)\n",
    "\n",
    "# Check the resulting DataFrame info\n",
    "housing_processed.info()\n"
   ]
  },
  {
   "cell_type": "markdown",
   "id": "1e2d5335-0012-4844-866c-d947b2460938",
   "metadata": {},
   "source": [
    "#### Address Correlated Features"
   ]
  },
  {
   "cell_type": "code",
   "execution_count": 10,
   "id": "1d3cbd88-16b2-4578-8cc5-e41e1a91677d",
   "metadata": {},
   "outputs": [],
   "source": [
    "# Remove highly correlated features\n",
    "feature_drop = ['MiscVal', 'MoSold', 'YrSold', 'BsmtFinSF2','BsmtHalfBath','MSSubClass',\n",
    "                   'GarageArea', 'GarageYrBlt', '3SsnPorch']\n",
    "\n",
    "housing_processed = housing_processed.drop(feature_drop, axis = 1)"
   ]
  },
  {
   "cell_type": "markdown",
   "id": "2054f55c-df7a-4fc5-a9e2-da8eaa75889b",
   "metadata": {},
   "source": [
    "#### Transform Categorical Features (One-Hot Encode)"
   ]
  },
  {
   "cell_type": "code",
   "execution_count": 11,
   "id": "23cb37f2-e3d1-4785-a4dc-387f671949ce",
   "metadata": {},
   "outputs": [
    {
     "data": {
      "text/plain": [
       "<1421x8750 sparse matrix of type '<class 'numpy.float64'>'\n",
       "\twith 100891 stored elements in Compressed Sparse Row format>"
      ]
     },
     "execution_count": 11,
     "metadata": {},
     "output_type": "execute_result"
    }
   ],
   "source": [
    "# Transforming categorical features\n",
    "from sklearn.preprocessing import OneHotEncoder\n",
    "\n",
    "cat_encoder = OneHotEncoder()\n",
    "housing_processed_1hot = cat_encoder.fit_transform(housing_processed)\n",
    "housing_processed_1hot"
   ]
  },
  {
   "cell_type": "markdown",
   "id": "80952fbe-fa46-4ef8-86b1-3d60c6013a68",
   "metadata": {},
   "source": [
    "#### Feature Scaling"
   ]
  },
  {
   "cell_type": "code",
   "execution_count": 14,
   "id": "1ee1a8f3-aef0-43d3-85f2-4be94edb2bcc",
   "metadata": {},
   "outputs": [],
   "source": [
    "# Import modules\n",
    "from sklearn.pipeline import Pipeline\n",
    "from sklearn.preprocessing import StandardScaler\n",
    "from sklearn.compose import ColumnTransformer\n",
    "from sklearn.impute import SimpleImputer\n",
    "\n",
    "# Separate features and target variable\n",
    "housing_X = housing_processed.drop(\"SalePrice\", axis = 1)\n",
    "housing_y = housing_processed[\"SalePrice\"].copy()\n",
    "\n",
    "# Get the list of names for numerical and categorical attributes separately\n",
    "num_features = housing_X.select_dtypes(exclude = 'object')\n",
    "cat_features = housing_X.select_dtypes(include = 'object')\n",
    "\n",
    "num_feats = list(num_attributes)\n",
    "cat_feats = list(cat_attributes)\n",
    "\n",
    "# Numerical Pipeline to impute any missing values with the median and scale attributes\n",
    "num_pipeline = Pipeline([\n",
    "        ('imputer', SimpleImputer(strategy = \"median\")),\n",
    "        ('std_scaler', StandardScaler()),\n",
    "    ])"
   ]
  },
  {
   "cell_type": "code",
   "execution_count": 15,
   "id": "68f5c975-3262-4661-9587-98389b175a42",
   "metadata": {},
   "outputs": [
    {
     "name": "stdout",
     "output_type": "stream",
     "text": [
      "count      1421.000000\n",
      "mean     178430.574243\n",
      "std       74526.933464\n",
      "min       35311.000000\n",
      "25%      129500.000000\n",
      "50%      161500.000000\n",
      "75%      212000.000000\n",
      "max      611657.000000\n",
      "Name: SalePrice, dtype: float64\n",
      "count    1421.000000\n",
      "mean       12.014898\n",
      "std         0.389710\n",
      "min        10.471950\n",
      "25%        11.771436\n",
      "50%        11.992260\n",
      "75%        12.264342\n",
      "max        13.323927\n",
      "Name: SalePrice, dtype: float64\n"
     ]
    },
    {
     "data": {
      "text/plain": [
       "<1421x282 sparse matrix of type '<class 'numpy.float64'>'\n",
       "\twith 99470 stored elements in Compressed Sparse Row format>"
      ]
     },
     "execution_count": 15,
     "metadata": {},
     "output_type": "execute_result"
    }
   ],
   "source": [
    "full_pipeline = ColumnTransformer([\n",
    "        (\"num\", num_pipeline, num_feats),\n",
    "        (\"cat\", OneHotEncoder(), cat_feats),\n",
    "    ])\n",
    "\n",
    "\n",
    "# Description before applying transforms\n",
    "print(housing_y.describe())\n",
    "\n",
    "# Apply log-transform to SalePrice\n",
    "housing_y_prepared  = np.log(housing_y)\n",
    "\n",
    "# Run the transformation pipeline on all the other attributes\n",
    "housing_X_prepared = full_pipeline.fit_transform(housing_X)\n",
    "\n",
    "# Description before applying transforms\n",
    "print(housing_y_prepared.describe())\n",
    "\n",
    "housing_X_prepared"
   ]
  },
  {
   "cell_type": "code",
   "execution_count": 18,
   "id": "f147cc37-50df-49f2-8f92-a870ab214529",
   "metadata": {},
   "outputs": [],
   "source": [
    "# Save Preprocessed data sets to be used in Machine Learning model\n",
    "import pickle\n",
    "import os\n",
    "\n",
    "# Define the folder path\n",
    "folder_path = 'housing_price_data_processed'\n",
    "os.makedirs(folder_path, exist_ok = True)  # Create the folder if it doesn't exist\n",
    "\n",
    "# Save the data\n",
    "with open(os.path.join(folder_path, 'housing_X_prepared.pkl'), 'wb') as f:\n",
    "    pickle.dump(housing_X_prepared, f)\n",
    "\n",
    "with open(os.path.join(folder_path, 'housing_y_prepared.pkl'), 'wb') as f:\n",
    "    pickle.dump(housing_y_prepared, f)"
   ]
  },
  {
   "cell_type": "code",
   "execution_count": null,
   "id": "889d8cf1-958e-437f-80bd-a8af6b9312da",
   "metadata": {},
   "outputs": [],
   "source": []
  }
 ],
 "metadata": {
  "kernelspec": {
   "display_name": "Python 3 (ipykernel)",
   "language": "python",
   "name": "python3"
  },
  "language_info": {
   "codemirror_mode": {
    "name": "ipython",
    "version": 3
   },
   "file_extension": ".py",
   "mimetype": "text/x-python",
   "name": "python",
   "nbconvert_exporter": "python",
   "pygments_lexer": "ipython3",
   "version": "3.11.6"
  }
 },
 "nbformat": 4,
 "nbformat_minor": 5
}
