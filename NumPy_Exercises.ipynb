{
 "cells": [
  {
   "cell_type": "markdown",
   "id": "6d75a4a8-ed25-4580-8ae0-0fdeb79823f0",
   "metadata": {},
   "source": [
    "### Exercises: NumPy"
   ]
  },
  {
   "cell_type": "markdown",
   "id": "dfa7b986-bb1c-4861-966d-9a3b3bc6290f",
   "metadata": {},
   "source": [
    "##### Q1) Create a null vector (all zeros) of size 10 and set it to the variable called 'Z'."
   ]
  },
  {
   "cell_type": "code",
   "execution_count": 2,
   "id": "e0867e83-fe1e-4527-a900-1af7f6bf2e41",
   "metadata": {},
   "outputs": [],
   "source": [
    "import numpy as np"
   ]
  },
  {
   "cell_type": "code",
   "execution_count": 4,
   "id": "804bbba6-6319-4b00-ad6f-f4f9e99d3270",
   "metadata": {},
   "outputs": [
    {
     "name": "stdout",
     "output_type": "stream",
     "text": [
      "[0. 0. 0. 0. 0. 0. 0. 0. 0. 0.]\n"
     ]
    }
   ],
   "source": [
    "Z = np.zeros(10)\n",
    "print(Z)"
   ]
  },
  {
   "cell_type": "markdown",
   "id": "3796ecba-8218-4ac0-bcfd-e97c6b682233",
   "metadata": {},
   "source": [
    "##### Q2) Create a 1D array of numbers from 0 to 0 and set it to the variable called 'arr'."
   ]
  },
  {
   "cell_type": "code",
   "execution_count": 5,
   "id": "1a628336-3c37-40b6-9088-4692af599ff4",
   "metadata": {},
   "outputs": [
    {
     "name": "stdout",
     "output_type": "stream",
     "text": [
      "[0 1 2 3 4 5 6 7 8 9]\n"
     ]
    }
   ],
   "source": [
    "arr = np.arange(0, 10)\n",
    "print(arr)"
   ]
  },
  {
   "cell_type": "markdown",
   "id": "14686c3a-0515-4533-9662-0d67cc44ea47",
   "metadata": {},
   "source": [
    "##### Q3) Create a 3x3x3 array with random values and set it to the variable called 'arr'."
   ]
  },
  {
   "cell_type": "code",
   "execution_count": 9,
   "id": "155574cf-9bcb-4788-8fe0-c1d29da629d4",
   "metadata": {},
   "outputs": [
    {
     "name": "stdout",
     "output_type": "stream",
     "text": [
      "[[[0.83110017 0.8764977  0.91410703]\n",
      "  [0.82674089 0.15729493 0.40597222]\n",
      "  [0.11661507 0.5472147  0.90056557]]\n",
      "\n",
      " [[0.12912506 0.43360449 0.09618953]\n",
      "  [0.13054315 0.32608504 0.02722476]\n",
      "  [0.49348489 0.32870957 0.52097943]]\n",
      "\n",
      " [[0.2263314  0.63815581 0.58620255]\n",
      "  [0.3939123  0.87677569 0.39387127]\n",
      "  [0.1616156  0.65418184 0.76847954]]]\n"
     ]
    }
   ],
   "source": [
    "arr = np.random.random((3, 3, 3))\n",
    "print(arr)"
   ]
  },
  {
   "cell_type": "markdown",
   "id": "5e6ac152-42ad-4104-a03c-060fcba6780e",
   "metadata": {},
   "source": [
    "##### Q4) Create a 10x10 array with random values called 'arr4'. Find its minimum and maximum values and set them in the variables called 'min_val' and 'max_val' respectively. "
   ]
  },
  {
   "cell_type": "code",
   "execution_count": 11,
   "id": "711d9fde-b9da-4b7c-ba13-3c0189332270",
   "metadata": {},
   "outputs": [
    {
     "name": "stdout",
     "output_type": "stream",
     "text": [
      "0.008614241081679741\n",
      "0.9964381795355284\n"
     ]
    }
   ],
   "source": [
    "arr4 = np.random.random((10, 10))\n",
    "min_val = arr4.min()\n",
    "max_val = arr4.max()\n",
    "\n",
    "print(min_val)\n",
    "print(max_val)"
   ]
  },
  {
   "cell_type": "markdown",
   "id": "eef304fc-2a7c-485f-9a30-ba04a2b41033",
   "metadata": {},
   "source": [
    "##### Q5) First create a 1D array with numbers from 1 to 9 and then convert it into a 3x3 grid. Store the final answer in a variable called 'grid'."
   ]
  },
  {
   "cell_type": "code",
   "execution_count": 13,
   "id": "2deb53c6-09fc-41c9-9bc7-ce53f6b9a9f6",
   "metadata": {},
   "outputs": [
    {
     "name": "stdout",
     "output_type": "stream",
     "text": [
      "[[1 2 3]\n",
      " [4 5 6]\n",
      " [7 8 9]]\n"
     ]
    }
   ],
   "source": [
    "grid = np.arange(1, 10).reshape((3, 3))\n",
    "print(grid)"
   ]
  },
  {
   "cell_type": "markdown",
   "id": "2c5c9b91-0c47-436e-a7fe-f60204c75a37",
   "metadata": {},
   "source": [
    "##### Q6) Replace the maximum value in the given vector 'arr6' with -1. "
   ]
  },
  {
   "cell_type": "code",
   "execution_count": 14,
   "id": "48e456f9-f253-4a0c-adea-eec95fdd5ccd",
   "metadata": {},
   "outputs": [
    {
     "name": "stdout",
     "output_type": "stream",
     "text": [
      "[ 0  1  2  3  4  5  6  7  8 -1]\n"
     ]
    }
   ],
   "source": [
    "arr6 = np.arange(10)\n",
    "arr6[arr6.argmax()] = -1\n",
    "print(arr6)"
   ]
  },
  {
   "cell_type": "markdown",
   "id": "51e1c9c9-0e58-4a7f-afef-7c9aeb640fcc",
   "metadata": {},
   "source": [
    "##### Q7) Reverse the rows of the given 2D array, 'arr7'."
   ]
  },
  {
   "cell_type": "code",
   "execution_count": 15,
   "id": "cdb37b0f-d85a-4471-9801-8a9950124506",
   "metadata": {},
   "outputs": [
    {
     "data": {
      "text/plain": [
       "array([[6, 7, 8],\n",
       "       [3, 4, 5],\n",
       "       [0, 1, 2]])"
      ]
     },
     "execution_count": 15,
     "metadata": {},
     "output_type": "execute_result"
    }
   ],
   "source": [
    "arr7 = np.arange(9).reshape((3, 3))\n",
    "arr7 = arr7[::-1]"
   ]
  },
  {
   "cell_type": "markdown",
   "id": "fd574363-93d2-4e9e-8441-13cdb6d5a0da",
   "metadata": {},
   "source": [
    "##### Q8) Subtract the mean of each row of the given 2D array, 'arr8', from the values in the array. Set the updated array in 'transformed_arr8'."
   ]
  },
  {
   "cell_type": "code",
   "execution_count": 17,
   "id": "f73acb86-bfce-41a3-94fa-604375ca33a1",
   "metadata": {},
   "outputs": [
    {
     "name": "stdout",
     "output_type": "stream",
     "text": [
      "[[-3.59497776e-01  3.20579040e-01 -2.46166358e-01 -3.74137576e-01\n",
      "  -3.49945764e-01 -1.44582928e-01  3.76139670e-01  3.28891989e-01\n",
      "   2.53940656e-01  1.94779046e-01]\n",
      " [-2.43145726e-01 -6.23959580e-02 -2.27210964e-01  2.89766280e-01\n",
      "  -1.92105829e-01 -2.54991101e-01  3.88433105e-01 -3.41804768e-01\n",
      "   4.61322811e-01  1.82132149e-01]\n",
      " [-1.02995436e-01  2.17068835e-01  1.27064526e-02  3.87643107e-02\n",
      "  -2.85165670e-01  6.02451773e-02  3.22162255e-01 -1.51725668e-01\n",
      "  -1.11259455e-01  1.99199514e-04]]\n"
     ]
    }
   ],
   "source": [
    "arr8 = np.random.rand(3, 10)\n",
    "transformed_arr8 = arr8 - arr8.mean(axis = 1, keepdims = True)\n",
    "print(transformed_arr8)"
   ]
  }
 ],
 "metadata": {
  "kernelspec": {
   "display_name": "Python 3 (ipykernel)",
   "language": "python",
   "name": "python3"
  },
  "language_info": {
   "codemirror_mode": {
    "name": "ipython",
    "version": 3
   },
   "file_extension": ".py",
   "mimetype": "text/x-python",
   "name": "python",
   "nbconvert_exporter": "python",
   "pygments_lexer": "ipython3",
   "version": "3.11.6"
  }
 },
 "nbformat": 4,
 "nbformat_minor": 5
}
