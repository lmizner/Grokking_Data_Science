{
 "cells": [
  {
   "cell_type": "markdown",
   "id": "cf49fc6a-a72f-4e30-8c8c-be3d4217e840",
   "metadata": {},
   "source": [
    "### Exercises: Pandas"
   ]
  },
  {
   "cell_type": "markdown",
   "id": "92490daf-bc47-4070-ac24-fb5929fbc146",
   "metadata": {},
   "source": [
    "##### Q1) Create a DataFrame from the given dictionary data and index labels and store it in the variable called \"df\"."
   ]
  },
  {
   "cell_type": "code",
   "execution_count": 2,
   "id": "0cf0095f-6b4e-43ea-9f68-b3f8844e205e",
   "metadata": {},
   "outputs": [
    {
     "name": "stdout",
     "output_type": "stream",
     "text": [
      "           Artist Genre  Listeners\n",
      "AG  Ariana Grande  Jazz    1300000\n",
      "TS   Taylor Swift  Rock    2700000\n",
      "ED     Ed Sheeran  Jazz    5000000\n",
      "JB  Justin Bieber   Pop    2000000\n",
      "LG      Lady Gaga   Pop    3000000\n",
      "BM     Bruno Mars  Rock    1100000\n"
     ]
    }
   ],
   "source": [
    "import pandas as pd\n",
    "\n",
    "# Input \n",
    "data = {'Artist': ['Ariana Grande', 'Taylor Swift', 'Ed Sheeran', 'Justin Bieber', 'Lady Gaga', 'Bruno Mars'],\n",
    "        'Genre': ['Jazz', 'Rock', 'Jazz', 'Pop', 'Pop', 'Rock'],\n",
    "        'Listeners': [1300000, 2700000, 5000000, 2000000, 3000000, 1100000]}\n",
    "\n",
    "labels = ['AG', 'TS', 'ED', 'JB', 'LG', 'BM']\n",
    "\n",
    "df = pd.DataFrame(data, index = labels)\n",
    "\n",
    "print(df)"
   ]
  },
  {
   "cell_type": "markdown",
   "id": "fdd903ad-12fa-4c6b-b294-1bfc95a30949",
   "metadata": {},
   "source": [
    "##### Q2) \n",
    "##### a)Select the column labelled \"Listeners\" and store it in the variable called \"col\". \n",
    "\n",
    "##### b) Select the first row and store it in the variable called \"row\".\n"
   ]
  },
  {
   "cell_type": "code",
   "execution_count": 3,
   "id": "e3b20196-c6c8-4178-8bb5-16b8c3780324",
   "metadata": {},
   "outputs": [
    {
     "name": "stdout",
     "output_type": "stream",
     "text": [
      "Column: AG    1300000\n",
      "TS    2700000\n",
      "ED    5000000\n",
      "JB    2000000\n",
      "LG    3000000\n",
      "BM    1100000\n",
      "Name: Listeners, dtype: int64\n",
      "Row: Artist       Ariana Grande\n",
      "Genre                 Jazz\n",
      "Listeners          1300000\n",
      "Name: AG, dtype: object\n"
     ]
    }
   ],
   "source": [
    "# Part A\n",
    "col = df[\"Listeners\"]\n",
    "print(\"Column:\", col)\n",
    "\n",
    "# Part B\n",
    "row = df.iloc[0]\n",
    "print(\"Row:\", row)"
   ]
  },
  {
   "cell_type": "markdown",
   "id": "9963490d-236e-4b75-9971-4833ac452c90",
   "metadata": {},
   "source": [
    "##### Q3) Select all the rows where the Genre is 'Pop' and store the result in the variable \"pop_artists\"."
   ]
  },
  {
   "cell_type": "code",
   "execution_count": 5,
   "id": "f9a86d7c-3f69-4aeb-ac01-cd37f9c52e7e",
   "metadata": {},
   "outputs": [
    {
     "name": "stdout",
     "output_type": "stream",
     "text": [
      "           Artist Genre  Listeners\n",
      "JB  Justin Bieber   Pop    2000000\n",
      "LG      Lady Gaga   Pop    3000000\n"
     ]
    }
   ],
   "source": [
    "pop_artists = df[df[\"Genre\"] == \"Pop\"]\n",
    "print(pop_artists)"
   ]
  },
  {
   "cell_type": "markdown",
   "id": "5aa57bdf-9455-4b82-b2c8-5f80af034237",
   "metadata": {},
   "source": [
    "##### Q4) Select the artists who have more than 2,000,000 listeners and whose Genre is \"Pop\" and save the output in the variable called \"top_pop\"."
   ]
  },
  {
   "cell_type": "code",
   "execution_count": 8,
   "id": "aa2b73d3-5092-45c7-b483-3a393252093b",
   "metadata": {},
   "outputs": [
    {
     "name": "stdout",
     "output_type": "stream",
     "text": [
      "       Artist Genre  Listeners\n",
      "LG  Lady Gaga   Pop    3000000\n"
     ]
    }
   ],
   "source": [
    "top_pop = df[(df[\"Genre\"] == \"Pop\") & (df[\"Listeners\"] > 2000000)]\n",
    "print(top_pop)"
   ]
  },
  {
   "cell_type": "markdown",
   "id": "9d7adb2f-c718-4395-829d-34a628383971",
   "metadata": {},
   "source": [
    "##### Q5) Perform a grouping by Genre using sum() as the aggregation function and store the results in the variable called \"grouped\"."
   ]
  },
  {
   "cell_type": "code",
   "execution_count": 10,
   "id": "0b8dd94e-bc2a-471b-8f1a-2c13b0a439f4",
   "metadata": {},
   "outputs": [
    {
     "name": "stdout",
     "output_type": "stream",
     "text": [
      "                        Artist  Listeners\n",
      "Genre                                    \n",
      "Jazz   Ariana GrandeEd Sheeran    6300000\n",
      "Pop     Justin BieberLady Gaga    5000000\n",
      "Rock    Taylor SwiftBruno Mars    3800000\n"
     ]
    }
   ],
   "source": [
    "grouped = df.groupby('Genre').sum()\n",
    "print(grouped)"
   ]
  }
 ],
 "metadata": {
  "kernelspec": {
   "display_name": "Python 3 (ipykernel)",
   "language": "python",
   "name": "python3"
  },
  "language_info": {
   "codemirror_mode": {
    "name": "ipython",
    "version": 3
   },
   "file_extension": ".py",
   "mimetype": "text/x-python",
   "name": "python",
   "nbconvert_exporter": "python",
   "pygments_lexer": "ipython3",
   "version": "3.11.6"
  }
 },
 "nbformat": 4,
 "nbformat_minor": 5
}
